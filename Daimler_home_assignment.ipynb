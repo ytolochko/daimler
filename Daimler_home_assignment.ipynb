{
 "cells": [
  {
   "cell_type": "code",
   "execution_count": 365,
   "metadata": {},
   "outputs": [],
   "source": [
    "import pandas as pd\n",
    "import numpy as np\n",
    "import matplotlib.pyplot as plt\n",
    "import statsmodels.formula.api as sm\n",
    "import sklearn.linear_model as sk\n",
    "from sklearn.neural_network import MLPRegressor\n",
    "from sklearn.model_selection import train_test_split\n",
    "from sklearn.model_selection import cross_val_score\n",
    "from sklearn.model_selection import KFold"
   ]
  },
  {
   "cell_type": "code",
   "execution_count": 28,
   "metadata": {
    "collapsed": true
   },
   "outputs": [],
   "source": [
    "prod = pd.read_csv('Prod.csv', sep = ';')\n",
    "trans = pd.read_csv('Trans.csv', sep = ';')\n",
    "\n",
    "trans['Sendungsgewicht [kg]'] = trans['Sendungsgewicht [kg]'].apply(lambda x: x.replace('.', ''))\n",
    "trans['Sendungsgewicht [kg]'] = trans['Sendungsgewicht [kg]'].astype('float64')\n",
    "\n",
    "prod.rename(columns = {'Werk 1': 'Werk_1', 'Werk 2': 'Werk_2', 'Werk 3': 'Werk_3'}, inplace = True)\n",
    "\n",
    "train = prod.iloc[:51,]\n",
    "to_predict = prod.iloc[51:,]"
   ]
  },
  {
   "cell_type": "code",
   "execution_count": 126,
   "metadata": {},
   "outputs": [
    {
     "data": {
      "text/html": [
       "<div>\n",
       "<style>\n",
       "    .dataframe thead tr:only-child th {\n",
       "        text-align: right;\n",
       "    }\n",
       "\n",
       "    .dataframe thead th {\n",
       "        text-align: left;\n",
       "    }\n",
       "\n",
       "    .dataframe tbody tr th {\n",
       "        vertical-align: top;\n",
       "    }\n",
       "</style>\n",
       "<table border=\"1\" class=\"dataframe\">\n",
       "  <thead>\n",
       "    <tr style=\"text-align: right;\">\n",
       "      <th></th>\n",
       "      <th>Monat</th>\n",
       "      <th>Werk_1</th>\n",
       "      <th>Werk_2</th>\n",
       "      <th>Werk_3</th>\n",
       "    </tr>\n",
       "  </thead>\n",
       "  <tbody>\n",
       "    <tr>\n",
       "      <th>count</th>\n",
       "      <td>60.000000</td>\n",
       "      <td>60.000000</td>\n",
       "      <td>60.000000</td>\n",
       "      <td>60.000000</td>\n",
       "    </tr>\n",
       "    <tr>\n",
       "      <th>mean</th>\n",
       "      <td>30.500000</td>\n",
       "      <td>28037.850000</td>\n",
       "      <td>44418.383333</td>\n",
       "      <td>25441.450000</td>\n",
       "    </tr>\n",
       "    <tr>\n",
       "      <th>std</th>\n",
       "      <td>17.464249</td>\n",
       "      <td>6144.728069</td>\n",
       "      <td>6188.613412</td>\n",
       "      <td>4219.176478</td>\n",
       "    </tr>\n",
       "    <tr>\n",
       "      <th>min</th>\n",
       "      <td>1.000000</td>\n",
       "      <td>14546.000000</td>\n",
       "      <td>25332.000000</td>\n",
       "      <td>13297.000000</td>\n",
       "    </tr>\n",
       "    <tr>\n",
       "      <th>25%</th>\n",
       "      <td>15.750000</td>\n",
       "      <td>23091.750000</td>\n",
       "      <td>41073.000000</td>\n",
       "      <td>23370.750000</td>\n",
       "    </tr>\n",
       "    <tr>\n",
       "      <th>50%</th>\n",
       "      <td>30.500000</td>\n",
       "      <td>29735.000000</td>\n",
       "      <td>46151.000000</td>\n",
       "      <td>26495.500000</td>\n",
       "    </tr>\n",
       "    <tr>\n",
       "      <th>75%</th>\n",
       "      <td>45.250000</td>\n",
       "      <td>32289.000000</td>\n",
       "      <td>48417.500000</td>\n",
       "      <td>28312.000000</td>\n",
       "    </tr>\n",
       "    <tr>\n",
       "      <th>max</th>\n",
       "      <td>60.000000</td>\n",
       "      <td>38211.000000</td>\n",
       "      <td>53782.000000</td>\n",
       "      <td>33676.000000</td>\n",
       "    </tr>\n",
       "  </tbody>\n",
       "</table>\n",
       "</div>"
      ],
      "text/plain": [
       "           Monat        Werk_1        Werk_2        Werk_3\n",
       "count  60.000000     60.000000     60.000000     60.000000\n",
       "mean   30.500000  28037.850000  44418.383333  25441.450000\n",
       "std    17.464249   6144.728069   6188.613412   4219.176478\n",
       "min     1.000000  14546.000000  25332.000000  13297.000000\n",
       "25%    15.750000  23091.750000  41073.000000  23370.750000\n",
       "50%    30.500000  29735.000000  46151.000000  26495.500000\n",
       "75%    45.250000  32289.000000  48417.500000  28312.000000\n",
       "max    60.000000  38211.000000  53782.000000  33676.000000"
      ]
     },
     "execution_count": 126,
     "metadata": {},
     "output_type": "execute_result"
    }
   ],
   "source": [
    "prod.describe()"
   ]
  },
  {
   "cell_type": "code",
   "execution_count": 127,
   "metadata": {},
   "outputs": [
    {
     "data": {
      "text/html": [
       "<div>\n",
       "<style>\n",
       "    .dataframe thead tr:only-child th {\n",
       "        text-align: right;\n",
       "    }\n",
       "\n",
       "    .dataframe thead th {\n",
       "        text-align: left;\n",
       "    }\n",
       "\n",
       "    .dataframe tbody tr th {\n",
       "        vertical-align: top;\n",
       "    }\n",
       "</style>\n",
       "<table border=\"1\" class=\"dataframe\">\n",
       "  <thead>\n",
       "    <tr style=\"text-align: right;\">\n",
       "      <th></th>\n",
       "      <th>Monat</th>\n",
       "      <th>Sendungsgewicht [kg]</th>\n",
       "    </tr>\n",
       "  </thead>\n",
       "  <tbody>\n",
       "    <tr>\n",
       "      <th>count</th>\n",
       "      <td>4160.000000</td>\n",
       "      <td>4.160000e+03</td>\n",
       "    </tr>\n",
       "    <tr>\n",
       "      <th>mean</th>\n",
       "      <td>26.158173</td>\n",
       "      <td>5.413327e+05</td>\n",
       "    </tr>\n",
       "    <tr>\n",
       "      <th>std</th>\n",
       "      <td>14.704396</td>\n",
       "      <td>9.263667e+05</td>\n",
       "    </tr>\n",
       "    <tr>\n",
       "      <th>min</th>\n",
       "      <td>1.000000</td>\n",
       "      <td>1.000000e+00</td>\n",
       "    </tr>\n",
       "    <tr>\n",
       "      <th>25%</th>\n",
       "      <td>13.750000</td>\n",
       "      <td>1.201572e+05</td>\n",
       "    </tr>\n",
       "    <tr>\n",
       "      <th>50%</th>\n",
       "      <td>26.000000</td>\n",
       "      <td>3.306080e+05</td>\n",
       "    </tr>\n",
       "    <tr>\n",
       "      <th>75%</th>\n",
       "      <td>39.000000</td>\n",
       "      <td>7.810990e+05</td>\n",
       "    </tr>\n",
       "    <tr>\n",
       "      <th>max</th>\n",
       "      <td>51.000000</td>\n",
       "      <td>3.526712e+07</td>\n",
       "    </tr>\n",
       "  </tbody>\n",
       "</table>\n",
       "</div>"
      ],
      "text/plain": [
       "             Monat  Sendungsgewicht [kg]\n",
       "count  4160.000000          4.160000e+03\n",
       "mean     26.158173          5.413327e+05\n",
       "std      14.704396          9.263667e+05\n",
       "min       1.000000          1.000000e+00\n",
       "25%      13.750000          1.201572e+05\n",
       "50%      26.000000          3.306080e+05\n",
       "75%      39.000000          7.810990e+05\n",
       "max      51.000000          3.526712e+07"
      ]
     },
     "execution_count": 127,
     "metadata": {},
     "output_type": "execute_result"
    }
   ],
   "source": [
    "trans.describe()"
   ]
  },
  {
   "cell_type": "code",
   "execution_count": 167,
   "metadata": {
    "scrolled": true
   },
   "outputs": [
    {
     "data": {
      "text/html": [
       "<div>\n",
       "<style>\n",
       "    .dataframe thead tr:only-child th {\n",
       "        text-align: right;\n",
       "    }\n",
       "\n",
       "    .dataframe thead th {\n",
       "        text-align: left;\n",
       "    }\n",
       "\n",
       "    .dataframe tbody tr th {\n",
       "        vertical-align: top;\n",
       "    }\n",
       "</style>\n",
       "<table border=\"1\" class=\"dataframe\">\n",
       "  <thead>\n",
       "    <tr style=\"text-align: right;\">\n",
       "      <th></th>\n",
       "      <th>Monat</th>\n",
       "      <th>Spediteur</th>\n",
       "      <th>Anlieferwerk</th>\n",
       "      <th>Sendungsgewicht [kg]</th>\n",
       "    </tr>\n",
       "  </thead>\n",
       "  <tbody>\n",
       "    <tr>\n",
       "      <th>0</th>\n",
       "      <td>1</td>\n",
       "      <td>Sped1</td>\n",
       "      <td>Werk 1</td>\n",
       "      <td>1004567.0</td>\n",
       "    </tr>\n",
       "    <tr>\n",
       "      <th>1</th>\n",
       "      <td>1</td>\n",
       "      <td>Sped1</td>\n",
       "      <td>Werk 3</td>\n",
       "      <td>249228.0</td>\n",
       "    </tr>\n",
       "    <tr>\n",
       "      <th>2</th>\n",
       "      <td>1</td>\n",
       "      <td>Sped1</td>\n",
       "      <td>Werk 2</td>\n",
       "      <td>152674.0</td>\n",
       "    </tr>\n",
       "    <tr>\n",
       "      <th>3</th>\n",
       "      <td>1</td>\n",
       "      <td>Sped2</td>\n",
       "      <td>Werk 1</td>\n",
       "      <td>781777.0</td>\n",
       "    </tr>\n",
       "    <tr>\n",
       "      <th>4</th>\n",
       "      <td>1</td>\n",
       "      <td>Sped2</td>\n",
       "      <td>Werk 3</td>\n",
       "      <td>493002.0</td>\n",
       "    </tr>\n",
       "  </tbody>\n",
       "</table>\n",
       "</div>"
      ],
      "text/plain": [
       "   Monat Spediteur Anlieferwerk  Sendungsgewicht [kg]\n",
       "0      1     Sped1       Werk 1             1004567.0\n",
       "1      1     Sped1       Werk 3              249228.0\n",
       "2      1     Sped1       Werk 2              152674.0\n",
       "3      1     Sped2       Werk 1              781777.0\n",
       "4      1     Sped2       Werk 3              493002.0"
      ]
     },
     "execution_count": 167,
     "metadata": {},
     "output_type": "execute_result"
    }
   ],
   "source": [
    "trans.head()"
   ]
  },
  {
   "cell_type": "code",
   "execution_count": 29,
   "metadata": {
    "collapsed": true
   },
   "outputs": [],
   "source": [
    "gewicht = trans.groupby(['Monat', 'Anlieferwerk']).sum().reset_index() #['Sendungsgewicht [kg]'].sum()"
   ]
  },
  {
   "cell_type": "code",
   "execution_count": 30,
   "metadata": {
    "collapsed": true
   },
   "outputs": [],
   "source": [
    "prod['Anlieferung_Werk_1'] = np.nan\n",
    "prod['Anlieferung_Werk_2'] = np.nan\n",
    "prod['Anlieferung_Werk_3'] = np.nan"
   ]
  },
  {
   "cell_type": "code",
   "execution_count": 183,
   "metadata": {
    "collapsed": true
   },
   "outputs": [],
   "source": [
    "prod['Anlieferung_Werk_1'] = (gewicht[gewicht['Anlieferwerk'] == 'Werk 1']).reset_index()['Sendungsgewicht [kg]']\n",
    "prod['Anlieferung_Werk_2'] = (gewicht[gewicht['Anlieferwerk'] == 'Werk 2']).reset_index()['Sendungsgewicht [kg]']\n",
    "prod['Anlieferung_Werk_3'] = (gewicht[gewicht['Anlieferwerk'] == 'Werk 3']).reset_index()['Sendungsgewicht [kg]']\n",
    "\n",
    "train = prod.iloc[:51,]\n",
    "to_predict = prod.iloc[51:,]\n",
    "\n",
    "train.to_csv('train.csv')"
   ]
  },
  {
   "cell_type": "code",
   "execution_count": 59,
   "metadata": {},
   "outputs": [
    {
     "data": {
      "image/png": "[encoded data removed]",
      "text/plain": [
       "<matplotlib.figure.Figure at 0x1ed6f389cf8>"
      ]
     },
     "metadata": {},
     "output_type": "display_data"
    }
   ],
   "source": [
    "train[['Werk_1', 'Werk_2', 'Werk_3']].boxplot()\n",
    "plt.show()"
   ]
  },
  {
   "cell_type": "code",
   "execution_count": 60,
   "metadata": {},
   "outputs": [
    {
     "data": {
      "image/png": "[encoded data removed]",
      "text/plain": [
       "<matplotlib.figure.Figure at 0x1ed71b68da0>"
      ]
     },
     "metadata": {},
     "output_type": "display_data"
    }
   ],
   "source": [
    "train[['Anlieferung_Werk_1', 'Anlieferung_Werk_2', 'Anlieferung_Werk_3']].boxplot()\n",
    "plt.show()"
   ]
  },
  {
   "cell_type": "code",
   "execution_count": 99,
   "metadata": {
    "scrolled": false
   },
   "outputs": [
    {
     "data": {
      "image/png": "[encoded data removed]",
      "text/plain": [
       "<matplotlib.figure.Figure at 0x1ed7210a198>"
      ]
     },
     "metadata": {},
     "output_type": "display_data"
    },
    {
     "data": {
      "image/png": "[encoded data removed]",
      "text/plain": [
       "<matplotlib.figure.Figure at 0x1ed743d2eb8>"
      ]
     },
     "metadata": {},
     "output_type": "display_data"
    },
    {
     "data": {
      "image/png": "[encoded data removed]",
      "text/plain": [
       "<matplotlib.figure.Figure at 0x1ed73c7a9b0>"
      ]
     },
     "metadata": {},
     "output_type": "display_data"
    }
   ],
   "source": [
    "train.plot('Werk_3', 'Anlieferung_Werk_3', kind = 'scatter')\n",
    "train.plot('Werk_2', 'Anlieferung_Werk_2', kind = 'scatter')\n",
    "train.plot('Werk_1', 'Anlieferung_Werk_1', kind = 'scatter')\n",
    "\n",
    "plt.show()"
   ]
  },
  {
   "cell_type": "code",
   "execution_count": null,
   "metadata": {
    "collapsed": true
   },
   "outputs": [],
   "source": []
  },
  {
   "cell_type": "code",
   "execution_count": 387,
   "metadata": {},
   "outputs": [
    {
     "name": "stderr",
     "output_type": "stream",
     "text": [
      "C:\\Users\\Yurii\\Anaconda3\\lib\\site-packages\\sklearn\\neural_network\\multilayer_perceptron.py:564: ConvergenceWarning: Stochastic Optimizer: Maximum iterations (400) reached and the optimization hasn't converged yet.\n",
      "  % self.max_iter, ConvergenceWarning)\n"
     ]
    }
   ],
   "source": [
    "werks = ['Werk_1','Werk_2','Werk_3']\n",
    "anlieferungen  = ['Anlieferung_Werk_1', 'Anlieferung_Werk_2', 'Anlieferung_Werk_3']\n",
    "results = pd.DataFrame()\n",
    "\n",
    "for i,j in zip(werks, anlieferungen):\n",
    "    x = train[i].values.reshape(-1, 1)\n",
    "    y = train[j].values.reshape(-1, 1)\n",
    "    ols_score = 0\n",
    "    mlp_score = 0\n",
    "    n_iter = 20\n",
    "        \n",
    "    for c in range(n_iter):\n",
    "        X_train, X_test, y_train, y_test = train_test_split(x, y, test_size=0.33)\n",
    "        \n",
    "        ols_model = sk.LinearRegression()\n",
    "        ols_model.fit(X_train, y_train)\n",
    "        ols_score += ols_model.score(X_test, y_test)\n",
    "        \n",
    "        mlp_model = MLPRegressor(hidden_layer_sizes = (100,50,25), max_iter = 400)\n",
    "        mlp_model.fit(X_train, y_train.ravel())\n",
    "        mlp_score += mlp_model.score(X_test, y_test.ravel())\n",
    "    \n",
    "    #print('For {} the ols score was {}'.format(i, ols_score/10))\n",
    "    #print('For {} the mlp score was {}'.format(i, mlp_score/10))\n",
    "    \n",
    "    results.loc[i, 'OLS score'] = ols_score/n_iter\n",
    "    results.loc[i, 'MLP score'] = mlp_score/n_iter\n",
    "\n",
    "    \n",
    "reduced_set = train[train['Anlieferung_Werk_1'] <= 24833781.0]\n",
    "\n",
    "x = reduced_set['Werk_1']\n",
    "y = reduced_set['Anlieferung_Werk_1']\n",
    "\n",
    "x = x.values.reshape(-1, 1)\n",
    "y = y.values.reshape(-1, 1)\n",
    "\n",
    "ols_score = 0\n",
    "mlp_score = 0\n",
    "\n",
    "for _ in range(n_iter):\n",
    "\n",
    "    X_train, X_test, y_train, y_test = train_test_split(x, y, test_size=0.33)\n",
    "        \n",
    "    ols_model = sk.LinearRegression()\n",
    "    ols_model.fit(X_train, y_train)\n",
    "    ols_score += ols_model.score(X_test, y_test)\n",
    "  \n",
    "    mlp_model = MLPRegressor(hidden_layer_sizes = (100,50,25), max_iter = 400)\n",
    "    mlp_model.fit(X_train, y_train.ravel())\n",
    "    mlp_score += mlp_model.score(X_test, y_test.ravel())\n",
    "    \n",
    "#print('For {} the ols score was {}'.format('Werk_1', ols_score/10))\n",
    "#print('For {} the mlp score was {}'.format('Werk_1', mlp_score/10))\n",
    "results.loc['Werk_1_no_outlier', 'OLS score'] = ols_score/n_iter\n",
    "results.loc['Werk_1_no_outlier', 'MLP score'] = mlp_score/n_iter"
   ]
  },
  {
   "cell_type": "code",
   "execution_count": 388,
   "metadata": {},
   "outputs": [],
   "source": [
    "results.to_csv('results.csv')"
   ]
  },
  {
   "cell_type": "code",
   "execution_count": 389,
   "metadata": {},
   "outputs": [
    {
     "data": {
      "image/png": "[encoded data removed]",
      "text/plain": [
       "<matplotlib.figure.Figure at 0x1ed73bc7320>"
      ]
     },
     "metadata": {},
     "output_type": "display_data"
    }
   ],
   "source": [
    "results.plot(kind = 'bar')\n",
    "plt.show()"
   ]
  },
  {
   "cell_type": "code",
   "execution_count": null,
   "metadata": {
    "collapsed": true
   },
   "outputs": [],
   "source": []
  },
  {
   "cell_type": "code",
   "execution_count": null,
   "metadata": {
    "collapsed": true
   },
   "outputs": [],
   "source": []
  },
  {
   "cell_type": "code",
   "execution_count": null,
   "metadata": {
    "collapsed": true
   },
   "outputs": [],
   "source": []
  },
  {
   "cell_type": "code",
   "execution_count": null,
   "metadata": {
    "collapsed": true
   },
   "outputs": [],
   "source": []
  },
  {
   "cell_type": "code",
   "execution_count": null,
   "metadata": {
    "collapsed": true
   },
   "outputs": [],
   "source": []
  },
  {
   "cell_type": "code",
   "execution_count": null,
   "metadata": {
    "collapsed": true
   },
   "outputs": [],
   "source": []
  },
  {
   "cell_type": "code",
   "execution_count": null,
   "metadata": {
    "collapsed": true
   },
   "outputs": [],
   "source": []
  },
  {
   "cell_type": "code",
   "execution_count": null,
   "metadata": {
    "collapsed": true
   },
   "outputs": [],
   "source": []
  },
  {
   "cell_type": "code",
   "execution_count": 260,
   "metadata": {},
   "outputs": [],
   "source": [
    "class test:\n",
    "    salary = 1500\n",
    "    n = 0\n",
    "    raise_amount = 0\n",
    "    \n",
    "    def __init__(self, first, second):\n",
    "        self.name = first\n",
    "        self.surname = second\n",
    "        test.n += 1\n",
    "        \n",
    "    def fetch_name(self):\n",
    "        return self.name + self.surname\n",
    "    \n",
    "    def fetch_salary(self):\n",
    "        return self.salary\n",
    "    \n",
    "    @classmethod\n",
    "    def set_raise_amount(cls, new_amount):\n",
    "        test.raise_amount = new_amount"
   ]
  },
  {
   "cell_type": "code",
   "execution_count": 276,
   "metadata": {
    "collapsed": true
   },
   "outputs": [],
   "source": [
    "class better_test(test):\n",
    "    def __init__(self, first, second, price):\n",
    "        super().__init__(first, second)\n",
    "        self.price = price"
   ]
  },
  {
   "cell_type": "code",
   "execution_count": 285,
   "metadata": {
    "collapsed": true
   },
   "outputs": [],
   "source": [
    "class manager(better_test):\n",
    "    def __init__(self, first,second,price, position):\n",
    "        super().__init__(first,second,price)\n",
    "        self.position = position"
   ]
  },
  {
   "cell_type": "code",
   "execution_count": 277,
   "metadata": {
    "collapsed": true
   },
   "outputs": [],
   "source": [
    "one = test('hello', 'world')"
   ]
  },
  {
   "cell_type": "code",
   "execution_count": 280,
   "metadata": {},
   "outputs": [],
   "source": [
    "two = better_test('hello2', 'world2', 5000)"
   ]
  },
  {
   "cell_type": "code",
   "execution_count": 286,
   "metadata": {},
   "outputs": [],
   "source": [
    "bob = manager('bob', 'smith', 5, 'CEO')"
   ]
  }
 ],
 "metadata": {
  "kernelspec": {
   "display_name": "Python 3",
   "language": "python",
   "name": "python3"
  },
  "language_info": {
   "codemirror_mode": {
    "name": "ipython",
    "version": 3
   },
   "file_extension": ".py",
   "mimetype": "text/x-python",
   "name": "python",
   "nbconvert_exporter": "python",
   "pygments_lexer": "ipython3",
   "version": "3.6.3"
  }
 },
 "nbformat": 4,
 "nbformat_minor": 2
}
